{
  "nbformat": 4,
  "nbformat_minor": 0,
  "metadata": {
    "colab": {
      "provenance": []
    },
    "kernelspec": {
      "name": "python3",
      "display_name": "Python 3"
    },
    "language_info": {
      "name": "python"
    }
  },
  "cells": [
    {
      "cell_type": "markdown",
      "source": [
        "# Bioen 460/560 / EE 460/560 / CSE 490N Python Tutorial\n",
        "\n",
        "In this tutorial, you will learn the basics of Python and skills relevant\n",
        "to completing Project 2 (the analysis of ECoG data).\n",
        "\n",
        "Written by TA Luke M Bun on 10-20-24"
      ],
      "metadata": {
        "id": "E19kaCmZRVff"
      }
    },
    {
      "cell_type": "markdown",
      "source": [
        "\n",
        "# Section 1. Variables, packages, and indexing\n",
        "\n",
        "Python can be viewed as a fancy graphing calculator. You can set variables, manipulate, and display them."
      ],
      "metadata": {
        "id": "ZDHCnhEqiVCN"
      }
    },
    {
      "cell_type": "code",
      "execution_count": 2,
      "metadata": {
        "id": "6fX0QX_nRBsD",
        "colab": {
          "base_uri": "https://localhost:8080/"
        },
        "outputId": "02a0103b-6192-4c4b-bdf9-aa4062b17212"
      },
      "outputs": [
        {
          "output_type": "stream",
          "name": "stdout",
          "text": [
            "3\n",
            "2\n",
            "0.5\n",
            "1\n"
          ]
        }
      ],
      "source": [
        "### Variables ###\n",
        "# Variables are a way to store data and give it a name.\n",
        "a = 1  # Unluke, MATLAB you don't need a semicolon at the end of your variable\n",
        "b = 2  # Python automatically suppresses output\n",
        "you_can_use_whatever_letters_you_want = 460\n",
        "or_numbers_1234 = 560\n",
        "# Note: You CANNOT start variable names with numbers\n",
        "\n",
        "# Using variables (it's just math!)\n",
        "print(a + b)\n",
        "print(a * b)\n",
        "print(a / b)\n",
        "print(a ** b)  # exponentiation uses ** in Python\n"
      ]
    },
    {
      "cell_type": "code",
      "source": [
        "### Lists and arrays ###\n",
        "# Variables can also be composed of multiple numbers. A variable of\n",
        "# multiple values is called a list in Python.\n",
        "a = [1, 2, 3, 4]\n",
        "b = list(range(1, 5))  # do the above automatically\n",
        "\n",
        "# But if you want more flexibility, you may want to use packages. Packages are\n",
        "# are libraries of commands, functions, and variable types. Packages are one the\n",
        "# things that make Python so versitile and popular. One of the most popular\n",
        "# packages is NumPy. Let's import the NumPy package and use its commands to make\n",
        "# a new array.\n",
        "\n",
        "import numpy as np #using the \"as\" lets you give a custom, often, shorter name to the package\n",
        "\n",
        "c = np.arange(1,4.5,0.5) #make an array of values between 1 and 4 with 0.5 spacing\n",
        "d = np.linspace(1,4,10) #make an array of 10 values between 1 and 4\n",
        "print(c)\n",
        "print(d)\n",
        "\n",
        "# You can create multidimensional arrays with libraries like NumPy.\n",
        "import numpy as np\n",
        "twoD_array = np.array([[1, 2], [3, 4]])\n",
        "another_array = np.array([[1, 2], [3, 4]])\n",
        "\n",
        "print(twoD_array.shape)  # give me the dimensions of the array"
      ],
      "metadata": {
        "id": "iQ3ubMO0SKjb",
        "colab": {
          "base_uri": "https://localhost:8080/"
        },
        "outputId": "a38426be-576e-4131-f5f2-0da23c794515"
      },
      "execution_count": 3,
      "outputs": [
        {
          "output_type": "stream",
          "name": "stdout",
          "text": [
            "[1.  1.5 2.  2.5 3.  3.5 4. ]\n",
            "[1.         1.33333333 1.66666667 2.         2.33333333 2.66666667\n",
            " 3.         3.33333333 3.66666667 4.        ]\n",
            "(2, 2)\n"
          ]
        }
      ]
    },
    {
      "cell_type": "code",
      "source": [
        "### Indexing ###\n",
        "# What if I want a particular value in my list?\n",
        "print(a[0])  # give me the first value of a (0-indexed in Python)\n",
        "print(a[:2])  # give me every value from the 0 up to, but not including, 2\n",
        "print(a[-1])  # give me the last value\n",
        "print(a[-2])  # give me the second-to-last value\n",
        "print(a[:]) #gives me every value from 0 to the end\n",
        "# a[0.5]  # why won't this work?\n",
        "\n",
        "# Indexing in a multidimensional array\n",
        "print(twoD_array[0, 1])  # give me the value in the first row, second column"
      ],
      "metadata": {
        "id": "9qzhhV7ySfkc",
        "colab": {
          "base_uri": "https://localhost:8080/"
        },
        "outputId": "2096b575-f989-4d51-c752-4f11d11c4a6f"
      },
      "execution_count": 4,
      "outputs": [
        {
          "output_type": "stream",
          "name": "stdout",
          "text": [
            "1\n",
            "[1, 2]\n",
            "4\n",
            "3\n",
            "[1, 2, 3, 4]\n",
            "2\n"
          ]
        }
      ]
    },
    {
      "cell_type": "code",
      "source": [
        "### Logical indexing ###\n",
        "# Sometimes you need more flexibility than normal indexing.\n",
        "# One method is called \"logical indexing\" using booleans.\n",
        "\n",
        "# Example:\n",
        "# Set-up\n",
        "t = np.arange(1, 11)  # 10 time points\n",
        "y = np.linspace(41, 50, 10)  # 10 samples between 41 and 50\n",
        "t1 = 2\n",
        "t2 = 8\n",
        "\n",
        "# Using inequalities\n",
        "Lt1 = t > t1  # boolean array (true and false)\n",
        "Lt2 = t < t2\n",
        "Lt = Lt1 & Lt2  # combine logical arrays\n",
        "\n",
        "print(t)\n",
        "print(Lt)\n",
        "print(t[Lt]) #only keep values that are true\n",
        "\n",
        "print(y)\n",
        "print(y[Lt])  # give me all the values of y at the desired timepoints"
      ],
      "metadata": {
        "id": "PMJyPTLQTx53"
      },
      "execution_count": null,
      "outputs": []
    },
    {
      "cell_type": "code",
      "source": [
        "### Other types of variables ###\n",
        "string = \"You can store words or sentences\"  # these are called strings\n",
        "combo_string = \"you can also \" + \"combine strings like this\"\n",
        "print(str(460))  # you can turn numbers into strings\n",
        "print(int('560'))  # or strings into numbers\n",
        "\n",
        "# Lists and dictionaries for combining different types of variables\n",
        "mix_n_match = [string, a, c]  # Lists can store different types of data\n",
        "print(mix_n_match)\n",
        "\n",
        "# Dictionaries allow for key-value pairs\n",
        "struct = {\"field\": mix_n_match, \"something\": a, \"another_thing\": c}\n",
        "\n",
        "print(struct)\n",
        "print(struct[\"something\"])"
      ],
      "metadata": {
        "id": "ArCqLwHoTsPN"
      },
      "execution_count": null,
      "outputs": []
    },
    {
      "cell_type": "code",
      "source": [
        "### Special variables ###\n",
        "# Some Python packages, like numpy, includes some pre-defined constants, such as:\n",
        "print(np.pi)  # 3.1415...\n",
        "print(np.inf)  # infinity\n",
        "print(np.nan)  # not a number\n",
        "print(np.finfo(float).eps)  # smallest number Python can represent\n",
        "print(1j)  # complex number (sqrt(-1))\n",
        "\n",
        "### Comments ###\n",
        "# You've probably noticed that all of my explanations start with a #.\n",
        "# In Python, # denotes comments or parts of lines that aren't code.\n",
        "#\n",
        "# For multi-line comments, use triple quotes:\n",
        "'''\n",
        "Multi\n",
        "line\n",
        "comment\n",
        "'''"
      ],
      "metadata": {
        "id": "4cT53ypu6Huo"
      },
      "execution_count": null,
      "outputs": []
    },
    {
      "cell_type": "markdown",
      "source": [
        "# Section 2. Functions\n",
        "\n",
        "Functions are operations you can perform on variables to make new variables. Many come pre-installed in Python via libraries, and you can install more or write your own! We've already used some: np.arange, np.linspace and print."
      ],
      "metadata": {
        "id": "-bRrD-whUn8X"
      }
    },
    {
      "cell_type": "code",
      "source": [
        "### Common functions ###\n",
        "import numpy as np\n",
        "\n",
        "input = np.random.randn(10)  # Generates an array of N random numbers\n",
        "                             # from a Gaussian distribution (mean 0, std 1).\n",
        "output1 = np.max(input)  # The max function gives you the biggest number in an array\n",
        "output2 = np.min(input)  # min gives the smallest number\n",
        "output3 = np.abs(input)  # abs takes the absolute value\n",
        "output4 = np.median(input) #median gives the median value\n",
        "\n",
        "print(input)\n",
        "print(output1)\n",
        "print(output2)\n",
        "print(output3)\n",
        "print(output4)\n",
        "\n",
        "# If you ever don't understand how a function works, then Google is your best friend!\n",
        "# For almost every command and package in Python, there's a website with an explanation.\n",
        "# Here's the website for the np.random.randn function:\n",
        "# https://numpy.org/doc/stable/reference/random/generated/numpy.random.randn.html\n"
      ],
      "metadata": {
        "id": "-Df20T34UaKV"
      },
      "execution_count": null,
      "outputs": []
    },
    {
      "cell_type": "code",
      "source": [
        "### Plotting ###\n",
        "# Visualizing your data is critical to understanding it and debugging.\n",
        "# Plotting is just another instance of a function, now using the matplotlib library.\n",
        "\n",
        "import matplotlib.pyplot as plt\n",
        "\n",
        "x = np.arange(-10, 10, 0.1)\n",
        "y = -x**2 + 1  # Python follows PEMDAS\n",
        "# (Why did I need to do ** and not ^? What does Python say if I use ^?)\n",
        "\n",
        "plt.figure()  # Set up a figure to plot in\n",
        "plt.plot(x, y)  # Make the plot\n",
        "plt.title('My first parabola')  # Add a title\n",
        "plt.xlabel('x values')  # Label your x-axis\n",
        "plt.ylabel('y values')  # Label your y-axis\n",
        "plt.show()  # Display the plot"
      ],
      "metadata": {
        "id": "Z3dVzoS8anM2"
      },
      "execution_count": null,
      "outputs": []
    },
    {
      "cell_type": "code",
      "source": [
        "### Plotting 2: Histograms ###\n",
        "#There are also other types of plots you may need. One of them is histograms.\n",
        "#Histograms represent the number of times a vaue appears in an array. Let's use\n",
        "#a histogram to see if randn produces a normal distribution (bell curve).\n",
        "\n",
        "#We will also use subplots to make two non-overlapping plots on the same figure.\n",
        "\n",
        "x = np.random.randn(1000) #What happens to the distribution as a I use more random numbers?\n",
        "\n",
        "plt.subplot(1,2,1) #Specifies the first subplot in a row of 2 subplots\n",
        "plt.hist(x, bins=100) #you can specify the number of bins\n",
        "plt.ylabel('Count')\n",
        "plt.xlabel('Value')\n",
        "plt.title('Histogram of randn')\n",
        "\n",
        "#The first plot looks pretty good, but we can also customize the bins.\n",
        "custom_bins = np.arange(-4, 4, 0.5) #use 0.5 spacing\n",
        "plt.subplot(1,2,2) #Specifies the second subplot in a row of 2 subplots\n",
        "plt.hist(x,bins=custom_bins) #you can also specify the bin edges\n",
        "plt.ylabel('Value')\n",
        "plt.xlabel('Count')\n",
        "plt.title('Histogram of randn')\n",
        "plt.show()\n",
        "\n",
        "#Lastly, you can also get the counts of each bin\n",
        "counts, bin_edges = np.histogram(x, bins=custom_bins)\n",
        "print(counts)"
      ],
      "metadata": {
        "id": "_ohVnquPOMwn"
      },
      "execution_count": null,
      "outputs": []
    },
    {
      "cell_type": "code",
      "source": [
        "### Other package functions ###\n",
        "# You may also want to use the find_peaks function in Project 2.\n",
        "# This function is part of the SciPy library, so you may need to install it if\n",
        "# you don't already have it.\n",
        "\n",
        "from scipy.signal import find_peaks\n",
        "\n",
        "# Findpeaks\n",
        "x = np.linspace(0, 6 * np.pi, 100)  # the np.pi variable holds the value of pi\n",
        "peaks, _ = find_peaks(np.sin(x))  # find_peaks can have multiple outputs\n",
        "print(peaks)\n",
        "# find_peaks also has many other useful settings (like setting thresholds),\n",
        "# so be sure to look up how these functions work!\n",
        "\n",
        "#Plot the original data and highlight the peaks\n",
        "plt.figure()\n",
        "plt.plot(x, np.sin(x))\n",
        "plt.plot(x[peaks], np.sin(x[peaks]), 'x') #In Python, plots automatically stack on top of each other\n",
        "plt.show()"
      ],
      "metadata": {
        "id": "dpIknL3Bazf4"
      },
      "execution_count": null,
      "outputs": []
    },
    {
      "cell_type": "code",
      "source": [
        "### Custom Functions ###\n",
        "# Sometimes, you might want to write your own function. Here's an example with ReLU\n",
        "\n",
        "#Example function\n",
        "#You can write this in the middle of your script and use it immediatly afterwards\n",
        "def relu(x1): #one function can have multiple outputs\n",
        "    #This function produces the relu operation, which sets all negative\n",
        "    #numbers to 0 and returns all positive numbers unchanged.\n",
        "\n",
        "    x2 = x1.copy() #make a copy of x1\n",
        "    x2[x1<0] = 0; #using logical indexing to change values\n",
        "    return x1, x2 #you can return multiple values\n",
        "\n",
        "x1 = np.arange(-10,10)\n",
        "_,x2 = relu(x1) #you can use _ to not assign the outputs of a function\n",
        "\n",
        "plt.figure()\n",
        "plt.plot(x1,x2)\n",
        "plt.xlabel('x1')\n",
        "plt.ylabel('relu(x1)')\n",
        "plt.show()"
      ],
      "metadata": {
        "id": "GldPVMcYbU71"
      },
      "execution_count": null,
      "outputs": []
    },
    {
      "cell_type": "code",
      "source": [
        "### Importing functions ###\n",
        "# In this subsection, we will load an external .py function and test it.\n",
        "# Specifically, we will use the Python helperfunction, filter500to5k\n",
        "\n",
        "#Only if on GoogleColab, do the following 2 lines (otherwise comment out):\n",
        "from google.colab import drive\n",
        "drive.mount('/content/drive')\n",
        "\n",
        "path = '/content/drive/MyDrive/Bioen 460' #CHANGE THIS TO YOUR FOLDER\n",
        "import os\n",
        "os.chdir(path) #Changes the folder Python is looking at\n",
        "\n",
        "from filter500to5k_AvailabletoStudents import filter500to5k\n",
        "# Note: you can also copy-paste the helper function into your code if paths\n",
        "# are too annoying\n",
        "from scipy.signal import sosfiltfilt, butter #we'll also need these functions\n",
        "\n",
        "# Generate practice data\n",
        "t = np.linspace(0, 6 * np.pi, 20000)\n",
        "test_data = np.sin(t) + np.random.randn(20000) / 4  # Adding noise\n",
        "fs = 20000  # Sampling frequency in Hz\n",
        "\n",
        "# Get the filter coefficients\n",
        "sos = filter500to5k(fs)\n",
        "\n",
        "# Use the filter to filter your data\n",
        "filt_test_data = sosfiltfilt(sos, test_data)\n",
        "\n",
        "# Plotting the results\n",
        "plt.figure()\n",
        "plt.plot(test_data, label='Original Test Data')\n",
        "plt.plot(filt_test_data, label='Filtered Test Data', color='orange')\n",
        "plt.xlabel('Samples')\n",
        "plt.ylabel('Amplitude')\n",
        "plt.title('Test Data vs Filtered Data')\n",
        "plt.legend()\n",
        "plt.show()"
      ],
      "metadata": {
        "id": "GeZcUwyJc5-6"
      },
      "execution_count": null,
      "outputs": []
    },
    {
      "cell_type": "markdown",
      "source": [
        "# Section 3. For Loops and If Statements"
      ],
      "metadata": {
        "id": "nnXotv-kXlXq"
      }
    },
    {
      "cell_type": "code",
      "source": [
        "# You will often need to perform the same series of operations multiple times.\n",
        "# Instead of writing the same code multiple times, use a loop!\n",
        "\n",
        "### For loops ###\n",
        "# For loops let you iterate over an array to perform repetitive actions.\n",
        "#In Python, indentations determine what is inside and what is outside the loop\n",
        "iters = range(0, 11)\n",
        "store = np.zeros(11)  # an array of all 0s where we will store data\n",
        "for i in iters:  # i changes to the next value in iters each loop\n",
        "    store[i] = i**2  # square each i and store it\n",
        "print(store)"
      ],
      "metadata": {
        "id": "2ARSzas1XhvQ"
      },
      "execution_count": null,
      "outputs": []
    },
    {
      "cell_type": "code",
      "source": [
        "### If statements ###\n",
        "# You likely won't need these for Project 2, but they're nice to know about.\n",
        "# If statements let you do something when certain conditions are met.\n",
        "vals = [-1, 0, 1]\n",
        "if sum(vals) < 10:\n",
        "    print('Sum of vals is less than 10')\n",
        "if sum(vals) == 10:\n",
        "    print('Sum of values is equal to 10')"
      ],
      "metadata": {
        "id": "ByIgcsBkXxov"
      },
      "execution_count": null,
      "outputs": []
    },
    {
      "cell_type": "code",
      "source": [
        "### Nested for loops and if statements ###\n",
        "# You can have nested for loops and if statements to pull off complex operations.\n",
        "# In this example, we'll loop through every value in a 2D array and store values that are odd.\n",
        "\n",
        "x = np.array([[1, 2], [3, 4]])\n",
        "odd_vals = np.zeros((2, 2))  # Initialize a 2x2 array with zeros\n",
        "for i in range(2):  # for each row\n",
        "    for j in range(2):  # for each column\n",
        "        val = x[i, j]\n",
        "        if val % 2:  # checks if val is odd using the remainder after dividing by 2\n",
        "            odd_vals[i, j] = val  # store odd value\n",
        "\n",
        "print(odd_vals)\n",
        "\n",
        "#Pro-tip: be very careful about your indentations! In Python, indentations\n",
        "#determine what is inside and what is outside the for loop."
      ],
      "metadata": {
        "id": "VA3-DncfX-x_"
      },
      "execution_count": null,
      "outputs": []
    },
    {
      "cell_type": "markdown",
      "source": [
        "# Section 4. Getting started on Project 2\n",
        "This section is a modification of the example code written by Matthew Bryan, Iman Tanumihardja and Courtnie Paschall, but adapted for use in Jupyter notebooks and Google Collab."
      ],
      "metadata": {
        "id": "qlposD1ie-6D"
      }
    },
    {
      "cell_type": "code",
      "source": [
        "# Most people will import all their packages at the begenning of a script.\n",
        "# Some of these packages were imported previously, but were imported again for\n",
        "# convenience.\n",
        "\n",
        "import numpy as np #for doing math and storing data\n",
        "import scipy.io as sio #for loading .mat data\n",
        "import matplotlib.pyplot as plt #for plotting\n",
        "\n",
        "#Only if on GoogleColab, do the following 2 lines (otherwise comment out):\n",
        "from google.colab import drive\n",
        "drive.mount('/content/drive')\n",
        "\n",
        "path = '/content/drive/MyDrive/Bioen 460' #CHANGE THIS TO YOUR FOLDER\n",
        "import os\n",
        "os.chdir(path) #change directory to where the data and function are stored\n",
        "from filter500to5k_AvailabletoStudents import filter500to5k\n",
        "\n",
        "# For filtering\n",
        "from scipy.signal import find_peaks, butter, sosfiltfilt"
      ],
      "metadata": {
        "id": "2-RQXyAOc32T"
      },
      "execution_count": null,
      "outputs": []
    },
    {
      "cell_type": "code",
      "source": [
        "# Update data_path to point to your downloaded data\n",
        "data_path = \"ECoGData_AvailabletoStudents.mat\"\n",
        "data = sio.loadmat(data_path)"
      ],
      "metadata": {
        "id": "N9ps7qwDfO9v"
      },
      "execution_count": null,
      "outputs": []
    },
    {
      "cell_type": "code",
      "source": [
        "# Create some references to the data so the user doesn't need to copy/paste this indexing elsewhere.\n",
        "# This first one appears as data.Signal in the Matlab structure. e.g. data_ecog[0] is\n",
        "#  data.Signal{1, 1}\n",
        "data_ecog = data[\"data\"][\"Signal\"][0][0][0]\n",
        "stim_times = data[\"data\"][\"StimTimes\"][0][0][0]\n",
        "Fs = data[\"data\"][\"SamplingFreq\"][0][0][0][0]\n",
        "\n",
        "print(\"Signal: \" + str(data_ecog.shape))  # Three stim conditions\n",
        "print(\"Stim Times: \" + str(stim_times.shape))  # in seconds!\n",
        "print(\"SFreq: \" + str(Fs))  # 24414 Hz"
      ],
      "metadata": {
        "id": "vZuVCDTOfL7C"
      },
      "execution_count": null,
      "outputs": []
    },
    {
      "cell_type": "markdown",
      "source": [
        "General tips:\n",
        "\n",
        "* Google is your friend! Even the most experienced programmers need to look up how functions and operations work.\n",
        "* Write out the things you want your code step by step (pseudo-code). You\n",
        " don't need to use the right commands or worry about indexing, just think through how you want your code to work.\n",
        "* Come to office hours. When you run into a problem coding, it can be\n",
        "  difficult to debug over email. The best time to get help is during office\n",
        "  hours.\n",
        "\n"
      ],
      "metadata": {
        "id": "LnzWmZtx_AUc"
      }
    },
    {
      "cell_type": "markdown",
      "source": [
        "# Section 5. Another example\n",
        "\n",
        "This example is for you to look over and use as inspiration for Project 2. Some parts will be similar, others will be up for you to do on your own.\n",
        "\n",
        "I collected these data from a rhesus macaque being presented with visual grating stimuli at different orientations (Example: https://www.djmannion.net/psych_programming/_images/draw_gratings_6.png). At the same time, I was using a single unit tungsten electrode to record the timing of a neuron's action potentials (spikes).\n",
        "\n",
        "This code will load those data and analyze them to determine the\n",
        "preferred orientation of the neuron I recorded from."
      ],
      "metadata": {
        "id": "_Nj7gQawfUVc"
      }
    },
    {
      "cell_type": "code",
      "source": [
        "import numpy as np\n",
        "import matplotlib.pyplot as plt\n",
        "import scipy.io as sio #for loading .mat data\n",
        "from scipy.signal import find_peaks\n",
        "import os\n",
        "\n",
        "#Only if on GoogleColab, do the following 2 lines (otherwise comment out):\n",
        "from google.colab import drive\n",
        "drive.mount('/content/drive')\n",
        "\n",
        "path = '/content/drive/MyDrive/Bioen 460' #CHANGE THIS FOLDER TO WHERE YOU PUT THE DATA\n",
        "os.chdir(path)"
      ],
      "metadata": {
        "id": "oi4nYIcUfZ0E"
      },
      "execution_count": null,
      "outputs": []
    },
    {
      "cell_type": "code",
      "source": [
        "### Load data ###\n",
        "data = sio.loadmat('orientation_data.mat')\n",
        "ex_data = data['ex_data'][0, 0]  # Access the struct-like data\n",
        "spikes = ex_data['sig']  # List of spike times for each trial\n",
        "stim_on = ex_data['stim_on']  # Stimulus on times\n",
        "stim_off = ex_data['stim_off']  # Stimulus off times\n",
        "orient_trial = ex_data['orient'] # Orientation for each trial\n",
        "\n",
        "# Each row is a new trial where a new stimulus is presented\n",
        "n_trials = stim_on.size  # Number of trials"
      ],
      "metadata": {
        "id": "jx5R6RFZhRdz"
      },
      "execution_count": null,
      "outputs": []
    },
    {
      "cell_type": "code",
      "source": [
        "### Make a raster plot ###\n",
        "plt.figure()\n",
        "for iT in range(n_trials):  # for each trial\n",
        "    spike_t = spikes[iT][0] - stim_on[iT]  # get spike times in a trial, relative to stimulus onset\n",
        "    # Plot each spike as a | at a given time along the same row\n",
        "    plt.plot(spike_t, np.ones(len(spike_t)) * (iT + 1), 'k|')  # 'k|' for black vertical lines\n",
        "\n",
        "plt.xlim([-0.5, 1.5])  # Limit the x-axis\n",
        "plt.xlabel('Time')\n",
        "plt.ylabel('Trial #')\n",
        "plt.title('Raster plot')\n",
        "plt.show()"
      ],
      "metadata": {
        "id": "CKW1mFr9jV2_"
      },
      "execution_count": null,
      "outputs": []
    },
    {
      "cell_type": "code",
      "source": [
        "### Get spike rate for each trial ###\n",
        "spike_rates = np.zeros(n_trials)\n",
        "for iT in range(n_trials):  # for each trial\n",
        "    spike_t = spikes[iT][0]  # get spike times\n",
        "\n",
        "    # only keep the spikes from when the stimulus was on\n",
        "    spike_t = spike_t[(spike_t > stim_on[iT]) & (spike_t < stim_off[iT])]  # logical indexing\n",
        "\n",
        "    n_spikes = spike_t.size  # number of spikes kept\n",
        "    spike_rates[iT] = n_spikes / (stim_off[iT] - stim_on[iT])  # n spikes/time\n",
        "\n",
        "# Plot spike rate\n",
        "plt.figure()\n",
        "plt.plot(spike_rates)\n",
        "plt.xlabel('Trial #')\n",
        "plt.ylabel('Spike rate (sp/s)')\n",
        "plt.title('Spike rate on each trial')\n",
        "plt.show()"
      ],
      "metadata": {
        "id": "_GrjsRNhjZ_0"
      },
      "execution_count": null,
      "outputs": []
    },
    {
      "cell_type": "code",
      "source": [
        "### Get mean spike rate for each orientation ###\n",
        "orients = np.unique(orient_trial)  # find all the unique orientations presented\n",
        "mean_spike_rates = np.zeros(len(orients))\n",
        "for iO in range(len(orients)):  # for each orientation\n",
        "    # get the spike rates on every trial with that particular orientation\n",
        "    ori_spike_rates = spike_rates[orient_trial.flatten() == orients[iO]]\n",
        "    mean_spike_rates[iO] = np.mean(ori_spike_rates)  # take the mean\n",
        "\n",
        "# Plot orientation tuning curve\n",
        "plt.figure()\n",
        "plt.plot(orients, mean_spike_rates)\n",
        "plt.xlabel('Stimulus orientation')\n",
        "plt.ylabel('Spike rate (sp/s)')\n",
        "plt.title('Orientation tuning curve')\n",
        "plt.show()"
      ],
      "metadata": {
        "id": "gAlggoKKjbDL"
      },
      "execution_count": null,
      "outputs": []
    },
    {
      "cell_type": "code",
      "source": [
        "### What is the preferred orientation? ###\n",
        "pref_ori_index = np.argmax(mean_spike_rates)  # index of the max value\n",
        "print(f'The preferred orientation is {orients[pref_ori_index]}')\n",
        "\n",
        "# Find multiple peaks\n",
        "pref_ori_indices, _ = find_peaks(mean_spike_rates)  # find peaks\n",
        "print(f'The first peak is at {orients[pref_ori_indices[0]]}')\n",
        "print(f'The second peak is at {orients[pref_ori_indices[1]]}')"
      ],
      "metadata": {
        "id": "xlMomfqljh10"
      },
      "execution_count": null,
      "outputs": []
    }
  ]
}